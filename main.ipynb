{
 "cells": [
  {
   "cell_type": "code",
   "execution_count": 29,
   "metadata": {},
   "outputs": [],
   "source": [
    "from yfpy.query import YahooFantasySportsQuery\n",
    "from dotenv import find_dotenv, load_dotenv\n",
    "import os\n",
    "import pandas as pd\n",
    "import numpy as np"
   ]
  },
  {
   "cell_type": "code",
   "execution_count": 30,
   "metadata": {},
   "outputs": [],
   "source": [
    "yahoo_query = YahooFantasySportsQuery(\n",
    "    auth_dir='auth/',\n",
    "    league_id='1411473',\n",
    ")"
   ]
  },
  {
   "cell_type": "code",
   "execution_count": 31,
   "metadata": {},
   "outputs": [
    {
     "name": "stderr",
     "output_type": "stream",
     "text": [
      "2022-11-15 09:47:27.920 - WARNING - query.py - yfpy.query:790 - No game id or season/year provided, defaulting to current fantasy season.\n"
     ]
    }
   ],
   "source": [
    "cereal = yahoo_query.get_league_standings().serialized()"
   ]
  },
  {
   "cell_type": "code",
   "execution_count": 32,
   "metadata": {},
   "outputs": [],
   "source": [
    "l_standings = dict()\n",
    "for team in cereal['teams']:\n",
    "    team_info = team['team'].serialized()\n",
    "    name = team_info['name'].decode()\n",
    "    standings = team_info['team_standings']\n",
    "    wins = standings['outcome_totals']['wins']\n",
    "    losses = standings['outcome_totals']['losses']\n",
    "    l_standings[name] = {'wins': wins, 'losses': losses}"
   ]
  },
  {
   "cell_type": "code",
   "execution_count": 33,
   "metadata": {},
   "outputs": [],
   "source": [
    "# standings_pd = pd.DataFrame(l_standings).head()\n",
    "# standings_pd['name'] = standings_pd['name'].str.decode(\"utf-8\")"
   ]
  },
  {
   "cell_type": "code",
   "execution_count": 34,
   "metadata": {},
   "outputs": [
    {
     "name": "stderr",
     "output_type": "stream",
     "text": [
      "2022-11-15 09:47:28.850 - WARNING - query.py - yfpy.query:790 - No game id or season/year provided, defaulting to current fantasy season.\n",
      "2022-11-15 09:47:30.698 - WARNING - query.py - yfpy.query:790 - No game id or season/year provided, defaulting to current fantasy season.\n",
      "2022-11-15 09:47:31.307 - WARNING - query.py - yfpy.query:790 - No game id or season/year provided, defaulting to current fantasy season.\n"
     ]
    }
   ],
   "source": [
    "matchups = []\n",
    "for week in range(11,14):\n",
    "    for matchup in yahoo_query.get_league_matchups_by_week(week):\n",
    "        matchup_teams = matchup['matchup'].serialized()['teams']\n",
    "        matchups.append(\n",
    "            [\n",
    "                matchup_teams[0]['team'].serialized()['name'].decode(),\n",
    "                matchup_teams[1]['team'].serialized()['name'].decode(),\n",
    "            ]\n",
    "        )"
   ]
  },
  {
   "cell_type": "code",
   "execution_count": 35,
   "metadata": {},
   "outputs": [],
   "source": [
    "from copy import deepcopy"
   ]
  },
  {
   "cell_type": "code",
   "execution_count": 36,
   "metadata": {},
   "outputs": [
    {
     "data": {
      "text/plain": [
       "{'Belichicken Tenders': {'wins': 9, 'losses': 1},\n",
       " 'Tyler to be named later': {'wins': 8, 'losses': 2},\n",
       " 'Sophkillaaaaaaaaa': {'wins': 7, 'losses': 3},\n",
       " \"Rachel's Peerless Team\": {'wins': 7, 'losses': 3},\n",
       " \"Zach's FUKU Fighters\": {'wins': 6, 'losses': 4},\n",
       " \"Steven's Slam-Dunk Team\": {'wins': 5, 'losses': 5},\n",
       " \"Ethan Rosenblum's Nifty Team\": {'wins': 5, 'losses': 5},\n",
       " 'McCaf(r)é': {'wins': 4, 'losses': 6},\n",
       " 'Greg the Leg': {'wins': 4, 'losses': 6},\n",
       " 'LROZ': {'wins': 3, 'losses': 7},\n",
       " 'Flour Power': {'wins': 1, 'losses': 9},\n",
       " 'Intern Season': {'wins': 1, 'losses': 9}}"
      ]
     },
     "execution_count": 36,
     "metadata": {},
     "output_type": "execute_result"
    }
   ],
   "source": [
    "l_standings"
   ]
  },
  {
   "cell_type": "code",
   "execution_count": 44,
   "metadata": {},
   "outputs": [],
   "source": [
    "final_results = pd.DataFrame()\n",
    "for i in range(10000):\n",
    "    l_standings_sim = deepcopy(l_standings)\n",
    "    for matchup in matchups:\n",
    "        winner = np.random.randint(0,2)\n",
    "        win_name = matchup[winner]\n",
    "        lose_name = [i for i in matchup if i != win_name][0]\n",
    "        l_standings_sim[win_name]['wins'] += 1\n",
    "        l_standings_sim[lose_name]['losses'] += 1\n",
    "        \n",
    "    sim_standings = pd.DataFrame(l_standings_sim).transpose().sample(frac=1)\n",
    "    sim_standings['rank'] = sim_standings['wins'].rank(method='first', ascending=False)\n",
    "    sim_standings['playoffs'] = np.where(\n",
    "        sim_standings['rank'] <= 6,\n",
    "        1,\n",
    "        0\n",
    "    )\n",
    "    sim_standings['bye'] = np.where(\n",
    "        sim_standings['rank'] <= 2,\n",
    "        1,\n",
    "        0\n",
    "    )\n",
    "\n",
    "    final_results = pd.concat([final_results, sim_standings])"
   ]
  },
  {
   "cell_type": "code",
   "execution_count": 45,
   "metadata": {},
   "outputs": [
    {
     "data": {
      "text/plain": [
       "120000"
      ]
     },
     "execution_count": 45,
     "metadata": {},
     "output_type": "execute_result"
    }
   ],
   "source": [
    "len(final_results)"
   ]
  },
  {
   "cell_type": "code",
   "execution_count": 46,
   "metadata": {},
   "outputs": [],
   "source": [
    "final_results_names = final_results.reset_index()"
   ]
  },
  {
   "cell_type": "code",
   "execution_count": 47,
   "metadata": {},
   "outputs": [],
   "source": [
    "final_results_names = final_results_names.groupby('index')[['playoffs', 'bye']].mean().reset_index()"
   ]
  },
  {
   "cell_type": "code",
   "execution_count": 48,
   "metadata": {},
   "outputs": [
    {
     "data": {
      "text/html": [
       "<div>\n",
       "<style scoped>\n",
       "    .dataframe tbody tr th:only-of-type {\n",
       "        vertical-align: middle;\n",
       "    }\n",
       "\n",
       "    .dataframe tbody tr th {\n",
       "        vertical-align: top;\n",
       "    }\n",
       "\n",
       "    .dataframe thead th {\n",
       "        text-align: right;\n",
       "    }\n",
       "</style>\n",
       "<table border=\"1\" class=\"dataframe\">\n",
       "  <thead>\n",
       "    <tr style=\"text-align: right;\">\n",
       "      <th></th>\n",
       "      <th>index</th>\n",
       "      <th>playoffs</th>\n",
       "      <th>bye</th>\n",
       "    </tr>\n",
       "  </thead>\n",
       "  <tbody>\n",
       "    <tr>\n",
       "      <th>0</th>\n",
       "      <td>Belichicken Tenders</td>\n",
       "      <td>1.000</td>\n",
       "      <td>0.9098</td>\n",
       "    </tr>\n",
       "    <tr>\n",
       "      <th>1</th>\n",
       "      <td>Ethan Rosenblum's Nifty Team</td>\n",
       "      <td>0.451</td>\n",
       "      <td>0.0005</td>\n",
       "    </tr>\n",
       "    <tr>\n",
       "      <th>2</th>\n",
       "      <td>Flour Power</td>\n",
       "      <td>0.000</td>\n",
       "      <td>0.0000</td>\n",
       "    </tr>\n",
       "    <tr>\n",
       "      <th>3</th>\n",
       "      <td>Greg the Leg</td>\n",
       "      <td>0.137</td>\n",
       "      <td>0.0000</td>\n",
       "    </tr>\n",
       "    <tr>\n",
       "      <th>4</th>\n",
       "      <td>Intern Season</td>\n",
       "      <td>0.000</td>\n",
       "      <td>0.0000</td>\n",
       "    </tr>\n",
       "  </tbody>\n",
       "</table>\n",
       "</div>"
      ],
      "text/plain": [
       "                          index  playoffs     bye\n",
       "0           Belichicken Tenders     1.000  0.9098\n",
       "1  Ethan Rosenblum's Nifty Team     0.451  0.0005\n",
       "2                   Flour Power     0.000  0.0000\n",
       "3                  Greg the Leg     0.137  0.0000\n",
       "4                 Intern Season     0.000  0.0000"
      ]
     },
     "execution_count": 48,
     "metadata": {},
     "output_type": "execute_result"
    }
   ],
   "source": [
    "final_results_names.head()"
   ]
  },
  {
   "cell_type": "code",
   "execution_count": 49,
   "metadata": {},
   "outputs": [],
   "source": [
    "final_results_names = final_results_names.sort_values('playoffs', ascending = False)\n",
    "final_results_names['playoffs'] = np.round(final_results_names['playoffs']*100, 1).astype(float).astype(str) + '%'\n",
    "final_results_names['bye'] = np.round(final_results_names['bye']*100, 1).astype(float).astype(str) + '%'"
   ]
  },
  {
   "cell_type": "code",
   "execution_count": 50,
   "metadata": {},
   "outputs": [
    {
     "data": {
      "text/html": [
       "<div>\n",
       "<style scoped>\n",
       "    .dataframe tbody tr th:only-of-type {\n",
       "        vertical-align: middle;\n",
       "    }\n",
       "\n",
       "    .dataframe tbody tr th {\n",
       "        vertical-align: top;\n",
       "    }\n",
       "\n",
       "    .dataframe thead th {\n",
       "        text-align: right;\n",
       "    }\n",
       "</style>\n",
       "<table border=\"1\" class=\"dataframe\">\n",
       "  <thead>\n",
       "    <tr style=\"text-align: right;\">\n",
       "      <th></th>\n",
       "      <th>Team Name</th>\n",
       "      <th>Playoff %</th>\n",
       "      <th>Bye %</th>\n",
       "    </tr>\n",
       "  </thead>\n",
       "  <tbody>\n",
       "    <tr>\n",
       "      <th>0</th>\n",
       "      <td>Belichicken Tenders</td>\n",
       "      <td>100.0%</td>\n",
       "      <td>91.0%</td>\n",
       "    </tr>\n",
       "    <tr>\n",
       "      <th>10</th>\n",
       "      <td>Tyler to be named later</td>\n",
       "      <td>100.0%</td>\n",
       "      <td>65.1%</td>\n",
       "    </tr>\n",
       "    <tr>\n",
       "      <th>7</th>\n",
       "      <td>Rachel's Peerless Team</td>\n",
       "      <td>98.4%</td>\n",
       "      <td>21.9%</td>\n",
       "    </tr>\n",
       "    <tr>\n",
       "      <th>8</th>\n",
       "      <td>Sophkillaaaaaaaaa</td>\n",
       "      <td>97.3%</td>\n",
       "      <td>19.3%</td>\n",
       "    </tr>\n",
       "    <tr>\n",
       "      <th>11</th>\n",
       "      <td>Zach's FUKU Fighters</td>\n",
       "      <td>85.3%</td>\n",
       "      <td>2.7%</td>\n",
       "    </tr>\n",
       "    <tr>\n",
       "      <th>9</th>\n",
       "      <td>Steven's Slam-Dunk Team</td>\n",
       "      <td>45.8%</td>\n",
       "      <td>0.0%</td>\n",
       "    </tr>\n",
       "    <tr>\n",
       "      <th>1</th>\n",
       "      <td>Ethan Rosenblum's Nifty Team</td>\n",
       "      <td>45.1%</td>\n",
       "      <td>0.0%</td>\n",
       "    </tr>\n",
       "    <tr>\n",
       "      <th>3</th>\n",
       "      <td>Greg the Leg</td>\n",
       "      <td>13.7%</td>\n",
       "      <td>0.0%</td>\n",
       "    </tr>\n",
       "    <tr>\n",
       "      <th>6</th>\n",
       "      <td>McCaf(r)é</td>\n",
       "      <td>12.1%</td>\n",
       "      <td>0.0%</td>\n",
       "    </tr>\n",
       "    <tr>\n",
       "      <th>5</th>\n",
       "      <td>LROZ</td>\n",
       "      <td>2.4%</td>\n",
       "      <td>0.0%</td>\n",
       "    </tr>\n",
       "    <tr>\n",
       "      <th>2</th>\n",
       "      <td>Flour Power</td>\n",
       "      <td>0.0%</td>\n",
       "      <td>0.0%</td>\n",
       "    </tr>\n",
       "    <tr>\n",
       "      <th>4</th>\n",
       "      <td>Intern Season</td>\n",
       "      <td>0.0%</td>\n",
       "      <td>0.0%</td>\n",
       "    </tr>\n",
       "  </tbody>\n",
       "</table>\n",
       "</div>"
      ],
      "text/plain": [
       "                       Team Name Playoff %  Bye %\n",
       "0            Belichicken Tenders    100.0%  91.0%\n",
       "10       Tyler to be named later    100.0%  65.1%\n",
       "7         Rachel's Peerless Team     98.4%  21.9%\n",
       "8              Sophkillaaaaaaaaa     97.3%  19.3%\n",
       "11          Zach's FUKU Fighters     85.3%   2.7%\n",
       "9        Steven's Slam-Dunk Team     45.8%   0.0%\n",
       "1   Ethan Rosenblum's Nifty Team     45.1%   0.0%\n",
       "3                   Greg the Leg     13.7%   0.0%\n",
       "6                      McCaf(r)é     12.1%   0.0%\n",
       "5                           LROZ      2.4%   0.0%\n",
       "2                    Flour Power      0.0%   0.0%\n",
       "4                  Intern Season      0.0%   0.0%"
      ]
     },
     "execution_count": 50,
     "metadata": {},
     "output_type": "execute_result"
    }
   ],
   "source": [
    "final_results_names.columns = ['Team Name', 'Playoff %', 'Bye %']\n",
    "final_results_names"
   ]
  },
  {
   "cell_type": "code",
   "execution_count": null,
   "metadata": {},
   "outputs": [],
   "source": []
  }
 ],
 "metadata": {
  "kernelspec": {
   "display_name": "Python 3.9.1 ('venv': venv)",
   "language": "python",
   "name": "python3"
  },
  "language_info": {
   "codemirror_mode": {
    "name": "ipython",
    "version": 3
   },
   "file_extension": ".py",
   "mimetype": "text/x-python",
   "name": "python",
   "nbconvert_exporter": "python",
   "pygments_lexer": "ipython3",
   "version": "3.9.1"
  },
  "orig_nbformat": 4,
  "vscode": {
   "interpreter": {
    "hash": "2d0eab9b0f0614c529fb49a194c7767ed8e5f0745956be7e049ebc537cf1b3ab"
   }
  }
 },
 "nbformat": 4,
 "nbformat_minor": 2
}

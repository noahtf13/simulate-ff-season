{
 "cells": [
  {
   "cell_type": "code",
   "execution_count": 314,
   "metadata": {},
   "outputs": [],
   "source": [
    "from yfpy.query import YahooFantasySportsQuery\n",
    "from dotenv import find_dotenv, load_dotenv\n",
    "import os\n",
    "import pandas as pd\n",
    "import numpy as np"
   ]
  },
  {
   "cell_type": "code",
   "execution_count": 315,
   "metadata": {},
   "outputs": [],
   "source": [
    "yahoo_query = YahooFantasySportsQuery(\n",
    "    auth_dir='auth/',\n",
    "    league_id='1411473',\n",
    ")"
   ]
  },
  {
   "cell_type": "code",
   "execution_count": 316,
   "metadata": {},
   "outputs": [
    {
     "name": "stderr",
     "output_type": "stream",
     "text": [
      "2022-11-01 19:21:31.254 - WARNING - query.py - yfpy.query:790 - No game id or season/year provided, defaulting to current fantasy season.\n"
     ]
    }
   ],
   "source": [
    "cereal = yahoo_query.get_league_standings().serialized()"
   ]
  },
  {
   "cell_type": "code",
   "execution_count": 317,
   "metadata": {},
   "outputs": [],
   "source": [
    "l_standings = dict()\n",
    "for team in cereal['teams']:\n",
    "    team_info = team['team'].serialized()\n",
    "    name = team_info['name'].decode()\n",
    "    standings = team_info['team_standings']\n",
    "    wins = standings['outcome_totals']['wins']\n",
    "    losses = standings['outcome_totals']['losses']\n",
    "    l_standings[name] = {'wins': wins, 'losses': losses}"
   ]
  },
  {
   "cell_type": "code",
   "execution_count": 318,
   "metadata": {},
   "outputs": [],
   "source": [
    "# standings_pd = pd.DataFrame(l_standings).head()\n",
    "# standings_pd['name'] = standings_pd['name'].str.decode(\"utf-8\")"
   ]
  },
  {
   "cell_type": "code",
   "execution_count": 319,
   "metadata": {},
   "outputs": [
    {
     "name": "stderr",
     "output_type": "stream",
     "text": [
      "2022-11-01 19:21:32.086 - WARNING - query.py - yfpy.query:790 - No game id or season/year provided, defaulting to current fantasy season.\n",
      "2022-11-01 19:21:32.646 - WARNING - query.py - yfpy.query:790 - No game id or season/year provided, defaulting to current fantasy season.\n",
      "2022-11-01 19:21:33.286 - WARNING - query.py - yfpy.query:790 - No game id or season/year provided, defaulting to current fantasy season.\n",
      "2022-11-01 19:21:33.840 - WARNING - query.py - yfpy.query:790 - No game id or season/year provided, defaulting to current fantasy season.\n",
      "2022-11-01 19:21:34.381 - WARNING - query.py - yfpy.query:790 - No game id or season/year provided, defaulting to current fantasy season.\n"
     ]
    }
   ],
   "source": [
    "matchups = []\n",
    "for week in range(9,14):\n",
    "    for matchup in yahoo_query.get_league_matchups_by_week(week):\n",
    "        matchup_teams = matchup['matchup'].serialized()['teams']\n",
    "        matchups.append(\n",
    "            [\n",
    "                matchup_teams[0]['team'].serialized()['name'].decode(),\n",
    "                matchup_teams[1]['team'].serialized()['name'].decode(),\n",
    "            ]\n",
    "        )"
   ]
  },
  {
   "cell_type": "code",
   "execution_count": 320,
   "metadata": {},
   "outputs": [],
   "source": [
    "from copy import deepcopy\n"
   ]
  },
  {
   "cell_type": "code",
   "execution_count": 333,
   "metadata": {},
   "outputs": [
    {
     "data": {
      "text/plain": [
       "{'Belichicken Tenders': {'wins': 8, 'losses': 0},\n",
       " 'Tyler to be named later': {'wins': 6, 'losses': 2},\n",
       " 'Sophkillaaaaaaaaa': {'wins': 5, 'losses': 3},\n",
       " \"Zach's FUKU Fighters\": {'wins': 5, 'losses': 3},\n",
       " \"Steven's Slam-Dunk Team\": {'wins': 5, 'losses': 3},\n",
       " \"Rachel's Peerless Team\": {'wins': 5, 'losses': 3},\n",
       " \"Ethan Rosenblum's Nifty Team\": {'wins': 4, 'losses': 4},\n",
       " 'McCaf(r)é': {'wins': 3, 'losses': 5},\n",
       " 'Greg the Leg': {'wins': 3, 'losses': 5},\n",
       " 'LROZ': {'wins': 2, 'losses': 6},\n",
       " 'Flour Power': {'wins': 1, 'losses': 7},\n",
       " 'Intern Season': {'wins': 1, 'losses': 7}}"
      ]
     },
     "execution_count": 333,
     "metadata": {},
     "output_type": "execute_result"
    }
   ],
   "source": [
    "l_standings"
   ]
  },
  {
   "cell_type": "code",
   "execution_count": 329,
   "metadata": {},
   "outputs": [],
   "source": [
    "final_results = pd.DataFrame()\n",
    "for i in range(10000):\n",
    "    l_standings_sim = deepcopy(l_standings)\n",
    "    for matchup in matchups:\n",
    "        winner = np.random.randint(0,2)\n",
    "        win_name = matchup[winner]\n",
    "        lose_name = [i for i in matchup if i != win_name][0]\n",
    "        l_standings_sim[win_name]['wins'] += 1\n",
    "        l_standings_sim[lose_name]['losses'] += 1\n",
    "        \n",
    "    sim_standings = pd.DataFrame(l_standings_sim).transpose().sample(frac=1)\n",
    "    sim_standings['rank'] = sim_standings['wins'].rank(method='first', ascending=False)\n",
    "    sim_standings['playoffs'] = np.where(\n",
    "        sim_standings['rank'] <= 6,\n",
    "        1,\n",
    "        0\n",
    "    )\n",
    "\n",
    "    final_results = pd.concat([final_results, sim_standings])"
   ]
  },
  {
   "cell_type": "code",
   "execution_count": 330,
   "metadata": {},
   "outputs": [
    {
     "data": {
      "text/plain": [
       "120000"
      ]
     },
     "execution_count": 330,
     "metadata": {},
     "output_type": "execute_result"
    }
   ],
   "source": [
    "len(final_results)"
   ]
  },
  {
   "cell_type": "code",
   "execution_count": 331,
   "metadata": {},
   "outputs": [],
   "source": [
    "final_results_names = final_results.reset_index()"
   ]
  },
  {
   "cell_type": "code",
   "execution_count": 332,
   "metadata": {},
   "outputs": [
    {
     "data": {
      "text/plain": [
       "index\n",
       "Belichicken Tenders             1.0000\n",
       "Ethan Rosenblum's Nifty Team    0.4777\n",
       "Flour Power                     0.0077\n",
       "Greg the Leg                    0.1886\n",
       "Intern Season                   0.0052\n",
       "LROZ                            0.0429\n",
       "McCaf(r)é                       0.1856\n",
       "Rachel's Peerless Team          0.7883\n",
       "Sophkillaaaaaaaaa               0.7761\n",
       "Steven's Slam-Dunk Team         0.7834\n",
       "Tyler to be named later         0.9423\n",
       "Zach's FUKU Fighters            0.8022\n",
       "Name: playoffs, dtype: float64"
      ]
     },
     "execution_count": 332,
     "metadata": {},
     "output_type": "execute_result"
    }
   ],
   "source": [
    "final_results_names.groupby('index')['playoffs'].mean()"
   ]
  },
  {
   "cell_type": "code",
   "execution_count": null,
   "metadata": {},
   "outputs": [],
   "source": []
  }
 ],
 "metadata": {
  "kernelspec": {
   "display_name": "Python 3.9.1 ('venv': venv)",
   "language": "python",
   "name": "python3"
  },
  "language_info": {
   "codemirror_mode": {
    "name": "ipython",
    "version": 3
   },
   "file_extension": ".py",
   "mimetype": "text/x-python",
   "name": "python",
   "nbconvert_exporter": "python",
   "pygments_lexer": "ipython3",
   "version": "3.9.1"
  },
  "orig_nbformat": 4,
  "vscode": {
   "interpreter": {
    "hash": "2d0eab9b0f0614c529fb49a194c7767ed8e5f0745956be7e049ebc537cf1b3ab"
   }
  }
 },
 "nbformat": 4,
 "nbformat_minor": 2
}
